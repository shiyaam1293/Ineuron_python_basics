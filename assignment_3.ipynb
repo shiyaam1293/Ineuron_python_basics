{
 "cells": [
  {
   "cell_type": "code",
   "execution_count": null,
   "metadata": {},
   "outputs": [],
   "source": [
    "#Why are functions advantageous to have in your programs?\n",
    "\n",
    "'''\n",
    "1.We can divide the program into sections and develop\n",
    "2. Code reusability\n",
    "3. Easy debugging\n",
    "4.Avoid duplication of code and reduces the effort'''\n"
   ]
  },
  {
   "cell_type": "code",
   "execution_count": null,
   "metadata": {},
   "outputs": [],
   "source": [
    "#2. When does the code in a function run: when it's specified or when it's called?\n",
    "'''when it is called'''\n"
   ]
  },
  {
   "cell_type": "code",
   "execution_count": 1,
   "metadata": {},
   "outputs": [
    {
     "data": {
      "text/plain": [
       "'def functionname: -creates a function'"
      ]
     },
     "execution_count": 1,
     "metadata": {},
     "output_type": "execute_result"
    }
   ],
   "source": [
    "#3.What statement creates a function?\n",
    "'''def functionname: -creates a function'''"
   ]
  },
  {
   "cell_type": "code",
   "execution_count": null,
   "metadata": {},
   "outputs": [],
   "source": [
    "#4.What is the difference between a function and a function call?\n",
    "\n",
    "'''Function is the definition of parameters and particular operation of the function\n",
    "eg\n",
    "def add(a,b):\n",
    "    return(a+b)\n",
    "\n",
    "function call is code where actual values to the function is passed or control is passed to function\n",
    "eg c=add(3,5)'''"
   ]
  },
  {
   "cell_type": "code",
   "execution_count": null,
   "metadata": {},
   "outputs": [],
   "source": [
    "5.#How many global scopes are there in a Python program? How many local scopes?#\n",
    "'''1 global scope and many local scopes''' "
   ]
  },
  {
   "cell_type": "code",
   "execution_count": null,
   "metadata": {},
   "outputs": [],
   "source": [
    "6. #What happens to variables in a local scope when the function call returns?\n",
    "    '''once the function call returns the local scope is destroyed'''"
   ]
  },
  {
   "cell_type": "code",
   "execution_count": null,
   "metadata": {},
   "outputs": [],
   "source": [
    "7.#What is the concept of a return value? Is it possible to have a return value in an expression?\n",
    "\n",
    "'''Return statement marks the end of the function call.it also returns the result. the statement ater return will not be executed.'''\n",
    "'''return statement can contain expression. the result of the expression decides the value of the return'''"
   ]
  },
  {
   "cell_type": "code",
   "execution_count": null,
   "metadata": {},
   "outputs": [],
   "source": [
    "8.#If a function does not have a return statement, what is the return value of a call to that function?\n",
    "    '''if a function doesnot have a return statement then it returns NULL'''"
   ]
  },
  {
   "cell_type": "code",
   "execution_count": null,
   "metadata": {},
   "outputs": [],
   "source": [
    "9.#How do you make a function variable refer to the global variable?\n",
    "'''by using the keyword global'''"
   ]
  },
  {
   "cell_type": "code",
   "execution_count": null,
   "metadata": {},
   "outputs": [],
   "source": [
    "10.#What is the data type of None?\n",
    "'''None is defined to indicate NULL value or no value at all'''"
   ]
  },
  {
   "cell_type": "code",
   "execution_count": null,
   "metadata": {},
   "outputs": [],
   "source": [
    "11.#What does the sentence import areallyourpetsnamederic do?\n",
    "'''1.import statement is used to Importing class/functions from a module\n",
    "eg from os import path\n",
    "2.import * statement imports all the functions and class in that particular module.\n",
    "from os import *\n",
    "3. python import statement can be used with an alias name.'''"
   ]
  },
  {
   "cell_type": "code",
   "execution_count": null,
   "metadata": {},
   "outputs": [],
   "source": [
    "12.# If you had a bacon() feature in a spam module, what would you call it after importing spam?\n",
    "'''from spam import bacon()'''"
   ]
  },
  {
   "cell_type": "code",
   "execution_count": null,
   "metadata": {},
   "outputs": [],
   "source": [
    "13.#What can you do to save a programme from crashing if it encounters an error?\n",
    "'''by using try and except clause'''"
   ]
  },
  {
   "cell_type": "code",
   "execution_count": null,
   "metadata": {},
   "outputs": [],
   "source": [
    "14.#What is the purpose of the try clause? What is the purpose of the except clause?\n",
    "'''Python will try to process all the statements inside the try block. \n",
    "If a Error occurs at any point as it is executing them, the flow of control will immediately pass to the except block, \n",
    "and any remaining statements in the try block will be skipped.'''"
   ]
  }
 ],
 "metadata": {
  "kernelspec": {
   "display_name": "Python 3",
   "language": "python",
   "name": "python3"
  },
  "language_info": {
   "codemirror_mode": {
    "name": "ipython",
    "version": 3
   },
   "file_extension": ".py",
   "mimetype": "text/x-python",
   "name": "python",
   "nbconvert_exporter": "python",
   "pygments_lexer": "ipython3",
   "version": "3.7.4"
  }
 },
 "nbformat": 4,
 "nbformat_minor": 2
}
