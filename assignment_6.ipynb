{
 "cells": [
  {
   "cell_type": "code",
   "execution_count": 3,
   "metadata": {},
   "outputs": [
    {
     "name": "stdout",
     "output_type": "stream",
     "text": [
      "my name is \"shiyaam\" SM \n"
     ]
    }
   ],
   "source": [
    "#1. What are escape characters, and how do you use them?\n",
    "'''To insert characters that are illegal in a string, use an escape character.'''\n",
    "x= \"my name is \\\"shiyaam\\\" SM \" \n",
    "print(x)"
   ]
  },
  {
   "cell_type": "code",
   "execution_count": 4,
   "metadata": {},
   "outputs": [],
   "source": [
    "#2. What do the escape characters n and t stand for?\n",
    "\n",
    "#n - new line . to print in new line\n",
    "#t-tab- to print with space"
   ]
  },
  {
   "cell_type": "code",
   "execution_count": 5,
   "metadata": {},
   "outputs": [],
   "source": [
    "#3. What is the way to include backslash characters in a string?\n",
    "#to use double blackslash \\\\\n"
   ]
  },
  {
   "cell_type": "code",
   "execution_count": 6,
   "metadata": {},
   "outputs": [
    {
     "name": "stdout",
     "output_type": "stream",
     "text": [
      "Howl's Moving Castle\n"
     ]
    }
   ],
   "source": [
    "#4. The string \"Howl's Moving Castle\" is a correct value. Why isn't the single quote character in the word Howl's not escaped a problem?\n",
    "x=\"Howl's Moving Castle\"\n",
    "print(x)\n",
    "it is single quotes inside double quotes so it is accepted. if single quotes inisde single quotes it will be a problem."
   ]
  },
  {
   "cell_type": "code",
   "execution_count": 18,
   "metadata": {},
   "outputs": [
    {
     "name": "stdout",
     "output_type": "stream",
     "text": [
      "my\n",
      "name\n",
      "is\n",
      "shiyaam\n"
     ]
    }
   ],
   "source": [
    "#5. How do you write a string of newlines if you don't want to use the n character?\n",
    "mylist = [\"my\",\"name\",\"is\",\"shiyaam\"]\n",
    "for i in mylist:\n",
    "    print(i)\n"
   ]
  },
  {
   "cell_type": "code",
   "execution_count": 9,
   "metadata": {},
   "outputs": [
    {
     "name": "stdout",
     "output_type": "stream",
     "text": [
      "e\n",
      "Hello\n",
      "Hello\n",
      "lo, world!\n"
     ]
    }
   ],
   "source": [
    "#6. What are the values of the given expressions?\n",
    "x='Hello, world!'\n",
    "print(x[1])\n",
    "print(x[0:5])\n",
    "print(x[:5])\n",
    "print(x[3:])\n",
    "\n",
    "\n",
    "\n"
   ]
  },
  {
   "cell_type": "code",
   "execution_count": 11,
   "metadata": {},
   "outputs": [
    {
     "name": "stdout",
     "output_type": "stream",
     "text": [
      "HELLO\n",
      "True\n",
      "hello\n"
     ]
    }
   ],
   "source": [
    "#7. What are the values of the following expressions?\n",
    "x='Hello'\n",
    "print(x.upper())\n",
    "print(x.upper().isupper())\n",
    "print(x.upper().lower())\n"
   ]
  },
  {
   "cell_type": "code",
   "execution_count": 14,
   "metadata": {},
   "outputs": [
    {
     "name": "stdout",
     "output_type": "stream",
     "text": [
      "Object `expressions` not found.\n",
      "['Remember,', 'remember,', 'the', 'fifth', 'of', 'July.']\n",
      "There-can-only-one.\n"
     ]
    }
   ],
   "source": [
    "8. What are the values of the following expressions?\n",
    "x='Remember, remember, the fifth of July.'\n",
    "print(x.split())\n",
    "y='There can only one.'\n",
    "print('-'.join(y.split()))\n"
   ]
  },
  {
   "cell_type": "code",
   "execution_count": 19,
   "metadata": {},
   "outputs": [
    {
     "name": "stdout",
     "output_type": "stream",
     "text": [
      "Object `string` not found.\n",
      "The original string is : \n",
      " my name is shiyaam \n",
      "\n",
      "The center aligned string is : \n",
      "           my name is shiyaam            \n",
      "\n",
      "The center aligned string is : \n",
      "my name is shiyaam                       \n",
      "\n",
      "The center aligned string is : \n",
      "                      my name is shiyaam \n",
      "\n"
     ]
    }
   ],
   "source": [
    "9. What are the methods for right-justifying, left-justifying, and centering a string?\n",
    "\n",
    "  \n",
    "s = \"my name is shiyaam\"\n",
    "  \n",
    "# Printing the original string\n",
    "print (\"The original string is : \\n\",s, \"\\n\")\n",
    "  \n",
    "# Printing the center aligned string \n",
    "print (\"The center aligned string is : \")\n",
    "print (s.center(40), \"\\n\")\n",
    "\n",
    "# Printing the left aligned string \n",
    "print (\"The center aligned string is : \")\n",
    "print (s.ljust(40), \"\\n\")\n",
    "\n",
    "# Printing the right aligned string \n",
    "print (\"The center aligned string is : \")\n",
    "print (s.rjust(40), \"\\n\")"
   ]
  },
  {
   "cell_type": "code",
   "execution_count": 22,
   "metadata": {},
   "outputs": [
    {
     "name": "stdout",
     "output_type": "stream",
     "text": [
      "Center aligned string with fillchr: \n",
      "######################my name is shiyaam\n",
      "Center aligned string with fillchr: \n",
      "my name is shiyaam######################\n",
      "Center aligned string with fillchr: \n",
      "###########my name is shiyaam###########\n"
     ]
    }
   ],
   "source": [
    "#10. What is the best way to remove whitespace characters from the start or end?\n",
    "\n",
    "s = \"my name is shiyaam\"\n",
    "\n",
    "# Printing the center aligned \n",
    "# string with fillchr\n",
    "print (\"Center aligned string with fillchr: \")\n",
    "print (s.rjust(40, '#'))\n",
    "\n",
    "# Printing the center aligned \n",
    "# string with fillchr\n",
    "print (\"Center aligned string with fillchr: \")\n",
    "print (s.ljust(40, '#'))\n",
    "  \n",
    "# Printing the center aligned \n",
    "# string with fillchr\n",
    "print (\"Center aligned string with fillchr: \")\n",
    "print (s.center(40, '#'))"
   ]
  },
  {
   "cell_type": "code",
   "execution_count": null,
   "metadata": {},
   "outputs": [],
   "source": []
  }
 ],
 "metadata": {
  "kernelspec": {
   "display_name": "Python 3",
   "language": "python",
   "name": "python3"
  },
  "language_info": {
   "codemirror_mode": {
    "name": "ipython",
    "version": 3
   },
   "file_extension": ".py",
   "mimetype": "text/x-python",
   "name": "python",
   "nbconvert_exporter": "python",
   "pygments_lexer": "ipython3",
   "version": "3.7.4"
  }
 },
 "nbformat": 4,
 "nbformat_minor": 2
}
