{
 "cells": [
  {
   "cell_type": "code",
   "execution_count": null,
   "metadata": {},
   "outputs": [],
   "source": [
    "#que1\n",
    "'''\n",
    "values\n",
    "'hello'\n",
    "-87.8\n",
    "6\n",
    "\n",
    "expressions\n",
    "- \n",
    "/ \n",
    "+\n",
    "*\n",
    "'''"
   ]
  },
  {
   "cell_type": "code",
   "execution_count": null,
   "metadata": {},
   "outputs": [],
   "source": [
    "#que2 \n",
    "#string and variable\n",
    "    \n",
    "'''variable holds values\n",
    "but string is itself a value\n",
    "\n",
    "string comes within quotes but vraible needs no quotes'''"
   ]
  },
  {
   "cell_type": "code",
   "execution_count": null,
   "metadata": {},
   "outputs": [],
   "source": [
    "#que3\n",
    "#three different data types\n",
    "'''\n",
    "1. string\n",
    "2.numeric\n",
    "3.boolean'''\n"
   ]
  },
  {
   "cell_type": "code",
   "execution_count": null,
   "metadata": {},
   "outputs": [],
   "source": [
    "#que4\n",
    "'''expression is made of varible, operator and a value or simply operator and value\n",
    "it does some operation on values or variables and return values directly or to another variable'''"
   ]
  },
  {
   "cell_type": "code",
   "execution_count": null,
   "metadata": {},
   "outputs": [],
   "source": [
    "#que5\n",
    "'''1.difference betwwen the expression and statement is that expression returns a value\n",
    "statements perform some action and doesnot return value\n",
    "\n",
    "2.eg print(10)- statement\n",
    "   10/3 - expression\n",
    "\n",
    "3.expression can be part of a statement.   \n",
    "   '''"
   ]
  },
  {
   "cell_type": "code",
   "execution_count": 1,
   "metadata": {},
   "outputs": [
    {
     "data": {
      "text/plain": [
       "23"
      ]
     },
     "execution_count": 1,
     "metadata": {},
     "output_type": "execute_result"
    }
   ],
   "source": [
    "#que6\n",
    "'''bacon = 22 - statement\n",
    "bacon + 1 -expression\n",
    "\n",
    "bacon may contan 23 '''\n"
   ]
  },
  {
   "cell_type": "code",
   "execution_count": 3,
   "metadata": {},
   "outputs": [
    {
     "name": "stdout",
     "output_type": "stream",
     "text": [
      "spamspamspam\n",
      "spamspamspam\n"
     ]
    }
   ],
   "source": [
    "#que7\n",
    "print('spam' + 'spamspam')\n",
    "print('spam' * 3)\n"
   ]
  },
  {
   "cell_type": "code",
   "execution_count": null,
   "metadata": {},
   "outputs": [],
   "source": [
    "#que8\n",
    "'''egg is valid variable beacuse variable name can start with alaphabet\n",
    "100 is not valid variable name beacuse variables cannot start with alphabet'''"
   ]
  },
  {
   "cell_type": "code",
   "execution_count": 6,
   "metadata": {},
   "outputs": [
    {
     "name": "stdout",
     "output_type": "stream",
     "text": [
      "2\n",
      "2.3333333333333335\n",
      "2.3333333333333335\n"
     ]
    }
   ],
   "source": [
    "#que9\n",
    "a=7/3\n",
    "print(int(a))\n",
    "print(float(a))\n",
    "print(str(a))"
   ]
  },
  {
   "cell_type": "code",
   "execution_count": 8,
   "metadata": {},
   "outputs": [
    {
     "data": {
      "text/plain": [
       "'I have eaten 99 burritos.'"
      ]
     },
     "execution_count": 8,
     "metadata": {},
     "output_type": "execute_result"
    }
   ],
   "source": [
    "#que10\n",
    "#it cannot concatenate int and str together\n",
    "'I have eaten ' + '99' + ' burritos.'"
   ]
  },
  {
   "cell_type": "code",
   "execution_count": null,
   "metadata": {},
   "outputs": [],
   "source": []
  }
 ],
 "metadata": {
  "kernelspec": {
   "display_name": "Python 3",
   "language": "python",
   "name": "python3"
  },
  "language_info": {
   "codemirror_mode": {
    "name": "ipython",
    "version": 3
   },
   "file_extension": ".py",
   "mimetype": "text/x-python",
   "name": "python",
   "nbconvert_exporter": "python",
   "pygments_lexer": "ipython3",
   "version": "3.7.4"
  }
 },
 "nbformat": 4,
 "nbformat_minor": 2
}
