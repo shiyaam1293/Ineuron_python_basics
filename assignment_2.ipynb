{
 "cells": [
  {
   "cell_type": "code",
   "execution_count": 1,
   "metadata": {},
   "outputs": [
    {
     "data": {
      "text/plain": [
       "'Two values of boolean data types are \\n1=True\\n2=False'"
      ]
     },
     "execution_count": 1,
     "metadata": {},
     "output_type": "execute_result"
    }
   ],
   "source": [
    "#que1\n",
    "'''Two values of boolean data types are \n",
    "1=True\n",
    "2=False'''"
   ]
  },
  {
   "cell_type": "code",
   "execution_count": 2,
   "metadata": {},
   "outputs": [
    {
     "data": {
      "text/plain": [
       "'Three boolean operators\\n1.and\\n2.or\\n3.not'"
      ]
     },
     "execution_count": 2,
     "metadata": {},
     "output_type": "execute_result"
    }
   ],
   "source": [
    "#que2\n",
    "'''Three boolean operators\n",
    "1.and\n",
    "2.or\n",
    "3.not'''"
   ]
  },
  {
   "cell_type": "code",
   "execution_count": 3,
   "metadata": {},
   "outputs": [
    {
     "name": "stdout",
     "output_type": "stream",
     "text": [
      "True\n",
      "False\n",
      "False\n",
      "False\n"
     ]
    }
   ],
   "source": [
    "#que3\n",
    "#and operator\n",
    "print(True and True)\n",
    "print(True and False)\n",
    "print(False and True)\n",
    "print(False and False)"
   ]
  },
  {
   "cell_type": "code",
   "execution_count": 4,
   "metadata": {},
   "outputs": [
    {
     "name": "stdout",
     "output_type": "stream",
     "text": [
      "True\n",
      "True\n",
      "True\n",
      "False\n"
     ]
    }
   ],
   "source": [
    "#or operator\n",
    "print(True or True)\n",
    "print(True or False)\n",
    "print(False or True)\n",
    "print(False or False)"
   ]
  },
  {
   "cell_type": "code",
   "execution_count": 5,
   "metadata": {},
   "outputs": [
    {
     "name": "stdout",
     "output_type": "stream",
     "text": [
      "False\n",
      "True\n"
     ]
    }
   ],
   "source": [
    "#not operator\n",
    "print(not True)\n",
    "print(not False)\n"
   ]
  },
  {
   "cell_type": "code",
   "execution_count": 6,
   "metadata": {},
   "outputs": [
    {
     "name": "stdout",
     "output_type": "stream",
     "text": [
      "False\n",
      "False\n",
      "False\n",
      "True\n",
      "False\n",
      "False\n",
      "True\n"
     ]
    }
   ],
   "source": [
    "#que4\n",
    "print((5 > 4) and (3 == 5))\n",
    "print((5 > 4) and (3 == 5))\n",
    "print(not (5 > 4))\n",
    "print((5 > 4) or (3 == 5))\n",
    "print(not ((5 > 4) or (3 == 5)))\n",
    "print((True and True) and (True == False))\n",
    "print((not False) or (not True))\n"
   ]
  },
  {
   "cell_type": "code",
   "execution_count": 7,
   "metadata": {},
   "outputs": [
    {
     "data": {
      "text/plain": [
       "'\\n< - less than\\n> - greater than\\n<= - less than or equal to\\n>= - greater than or equal to\\n!= - not equal to\\n== - equal to '"
      ]
     },
     "execution_count": 7,
     "metadata": {},
     "output_type": "execute_result"
    }
   ],
   "source": [
    "#que5 six comparison operator\n",
    "'''\n",
    "< - less than\n",
    "> - greater than\n",
    "<= - less than or equal to\n",
    ">= - greater than or equal to\n",
    "!= - not equal to\n",
    "== - equal to '''\n"
   ]
  },
  {
   "cell_type": "code",
   "execution_count": 8,
   "metadata": {},
   "outputs": [
    {
     "data": {
      "text/plain": [
       "'eg a == 5 compares a and 5 - true if value of a is 5 or false\\n      a = 5 assigns the value of 5 to the variable a'"
      ]
     },
     "execution_count": 8,
     "metadata": {},
     "output_type": "execute_result"
    }
   ],
   "source": [
    "#que6\n",
    "'''equal to operator compares two values and returns true if equal or false if not equal to'''\n",
    "'''assignment operators on other hand assigns a value to a variable'''\n",
    "'''eg a == 5 compares a and 5 - true if value of a is 5 or false\n",
    "      a = 5 assigns the value of 5 to the variable a'''"
   ]
  },
  {
   "cell_type": "code",
   "execution_count": 9,
   "metadata": {},
   "outputs": [
    {
     "name": "stdout",
     "output_type": "stream",
     "text": [
      "ham\n",
      "spam\n",
      "spam\n"
     ]
    }
   ],
   "source": [
    "#que7\n",
    "spam = 0\n",
    "if spam == 10:#block1\n",
    "    print('eggs')\n",
    "    if spam > 5:#block2\n",
    "        print('bacon')\n",
    "else:#block3\n",
    "    print('ham')\n",
    "print('spam')\n",
    "print('spam')\n"
   ]
  },
  {
   "cell_type": "code",
   "execution_count": 10,
   "metadata": {},
   "outputs": [
    {
     "name": "stdout",
     "output_type": "stream",
     "text": [
      "Greetings!\n"
     ]
    }
   ],
   "source": [
    "#que8\n",
    "spam = 3\n",
    "if spam == 1:\n",
    "    print('helo')\n",
    "elif spam == 2:\n",
    "        print('Howdy')\n",
    "else:#block3\n",
    "    print('Greetings!')\n"
   ]
  },
  {
   "cell_type": "code",
   "execution_count": 11,
   "metadata": {},
   "outputs": [
    {
     "data": {
      "text/plain": [
       "'ctrl + c '"
      ]
     },
     "execution_count": 11,
     "metadata": {},
     "output_type": "execute_result"
    }
   ],
   "source": [
    "#que9\n",
    "'''ctrl + c '''"
   ]
  },
  {
   "cell_type": "code",
   "execution_count": 12,
   "metadata": {},
   "outputs": [],
   "source": [
    "#que10\n",
    "#break statement is to terminate the loop immediately, even if the condition is true or somemore iterations left\n",
    "#continue is used to reiterate the loop even the loop iteration is over or condition is false\n"
   ]
  },
  {
   "cell_type": "code",
   "execution_count": 13,
   "metadata": {},
   "outputs": [],
   "source": [
    "#que11\n",
    "# In a for loop, what is the difference between range(10), range(0, 10), and range(0, 10, 1)?\n",
    "#range(10) - indicates the range function with stop value is alone mentioned. so it starts with 0 by default and ends before 10\n",
    "#range(0,10) - indicates the range function is defined with start and stop value. so it starts by 0 and ends before 10\n",
    "#range(0,10,1)- start value, stop value and steps are also mentioned in the range functions. as 1 is mentioned it increments each value by 1"
   ]
  },
  {
   "cell_type": "code",
   "execution_count": 21,
   "metadata": {},
   "outputs": [
    {
     "name": "stdout",
     "output_type": "stream",
     "text": [
      "1\n",
      "2\n",
      "3\n",
      "4\n",
      "5\n",
      "6\n",
      "7\n",
      "8\n",
      "9\n",
      "10\n",
      "1\n",
      "2\n",
      "3\n",
      "4\n",
      "5\n",
      "6\n",
      "7\n",
      "8\n",
      "9\n",
      "10\n"
     ]
    }
   ],
   "source": [
    "#que12\n",
    "\n",
    "for i in range(1,11):\n",
    "    print(i)\n",
    "    \n",
    "i=1\n",
    "while i<=10:\n",
    "    print(i)\n",
    "    i=i+1"
   ]
  },
  {
   "cell_type": "code",
   "execution_count": null,
   "metadata": {},
   "outputs": [],
   "source": [
    "#que13\n",
    "'''import Spam\n",
    "from Spam import bacon'''"
   ]
  }
 ],
 "metadata": {
  "kernelspec": {
   "display_name": "Python 3",
   "language": "python",
   "name": "python3"
  },
  "language_info": {
   "codemirror_mode": {
    "name": "ipython",
    "version": 3
   },
   "file_extension": ".py",
   "mimetype": "text/x-python",
   "name": "python",
   "nbconvert_exporter": "python",
   "pygments_lexer": "ipython3",
   "version": "3.7.4"
  }
 },
 "nbformat": 4,
 "nbformat_minor": 2
}
